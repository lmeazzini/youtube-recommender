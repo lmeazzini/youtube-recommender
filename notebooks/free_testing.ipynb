{
 "cells": [
  {
   "cell_type": "code",
   "execution_count": null,
   "metadata": {},
   "outputs": [],
   "source": [
    "from flask import Flask, request\n",
    "import sqlite3 as sql\n",
    "import json\n",
    "import bs4 as bs"
   ]
  },
  {
   "cell_type": "code",
   "execution_count": null,
   "metadata": {},
   "outputs": [],
   "source": [
    "preds = [['link0', 'title0', 'score0'],\n",
    "         ['link1', 'title1', 'score1'],\n",
    "         ['link2', 'title2', 'score2']]"
   ]
  },
  {
   "cell_type": "code",
   "execution_count": null,
   "metadata": {},
   "outputs": [],
   "source": [
    "for pred in preds:\n",
    "\n",
    "    with open('../src/deploy/Table_Fixed_Header/index.html') as page_html:\n",
    "        soup = bs.BeautifulSoup(page_html, features='html.parser')\n",
    "        link, title, score = pred\n",
    "\n",
    "        new_tr = soup.new_tag(\"tr\", **{'class': \"row100 body\"})\n",
    "        soup.tbody.insert(0, new_tr)\n",
    "        new_td1 = soup.new_tag(\"td\", **{'class': \"cell100 column1\"})\n",
    "        new_td2 = soup.new_tag(\"td\", **{'class': \"cell100 column2\"})\n",
    "        soup.tbody.tr.insert(0, new_td1)\n",
    "        soup.tbody.tr.insert(1, new_td2)\n",
    "        new_td2.string = score\n",
    "        new_link = soup.new_tag(\"a\", href=link)\n",
    "        soup.td.append(new_link)\n",
    "        new_link.string = title\n",
    "        \n",
    "    with open(\"../src/deploy/Table_Fixed_Header/index.html\", \"w\") as outf:\n",
    "        outf.write(soup.prettify())\n",
    "print(soup.tbody.prettify())"
   ]
  },
  {
   "cell_type": "code",
   "execution_count": null,
   "metadata": {},
   "outputs": [],
   "source": [
    "with open(\"../src/deploy/Table_Fixed_Header/index.html\", \"w\") as outf:\n",
    "    outf.write(soup.prettify())"
   ]
  },
  {
   "cell_type": "code",
   "execution_count": null,
   "metadata": {},
   "outputs": [],
   "source": []
  }
 ],
 "metadata": {
  "kernelspec": {
   "display_name": "Python [conda env:youtube_recommender]",
   "language": "python",
   "name": "conda-env-youtube_recommender-py"
  },
  "language_info": {
   "codemirror_mode": {
    "name": "ipython",
    "version": 3
   },
   "file_extension": ".py",
   "mimetype": "text/x-python",
   "name": "python",
   "nbconvert_exporter": "python",
   "pygments_lexer": "ipython3",
   "version": "3.7.6"
  }
 },
 "nbformat": 4,
 "nbformat_minor": 4
}
