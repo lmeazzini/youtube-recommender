{
 "cells": [
  {
   "cell_type": "code",
   "execution_count": 1,
   "metadata": {},
   "outputs": [
    {
     "name": "stdout",
     "output_type": "stream",
     "text": [
      "Populating the interactive namespace from numpy and matplotlib\n"
     ]
    }
   ],
   "source": [
    "import pandas as pd\n",
    "import numpy as np\n",
    "import matplotlib.pyplot as plt\n",
    "from sklearn.linear_model import LogisticRegression\n",
    "from sklearn.tree import DecisionTreeClassifier\n",
    "from sklearn.ensemble import RandomForestClassifier\n",
    "\n",
    "%pylab inline"
   ]
  },
  {
   "cell_type": "code",
   "execution_count": 2,
   "metadata": {},
   "outputs": [],
   "source": [
    "df = pd.read_csv('../data/raw_data.csv')"
   ]
  },
  {
   "cell_type": "code",
   "execution_count": 3,
   "metadata": {},
   "outputs": [
    {
     "data": {
      "text/html": [
       "<div>\n",
       "<style scoped>\n",
       "    .dataframe tbody tr th:only-of-type {\n",
       "        vertical-align: middle;\n",
       "    }\n",
       "\n",
       "    .dataframe tbody tr th {\n",
       "        vertical-align: top;\n",
       "    }\n",
       "\n",
       "    .dataframe thead th {\n",
       "        text-align: right;\n",
       "    }\n",
       "</style>\n",
       "<table border=\"1\" class=\"dataframe\">\n",
       "  <thead>\n",
       "    <tr style=\"text-align: right;\">\n",
       "      <th></th>\n",
       "      <th>watch-title</th>\n",
       "      <th>y</th>\n",
       "      <th>watch-view-count</th>\n",
       "      <th>watch-time-text</th>\n",
       "      <th>watch-extras-section</th>\n",
       "      <th>content_watch-info-tag-list</th>\n",
       "      <th>og:image</th>\n",
       "      <th>og:image:width</th>\n",
       "      <th>og:image:height</th>\n",
       "      <th>og:description</th>\n",
       "      <th>og:video:width</th>\n",
       "      <th>og:video:height</th>\n",
       "      <th>og:video:tag</th>\n",
       "      <th>channel_link_0</th>\n",
       "      <th>Unnamed: 14</th>\n",
       "      <th>Unnamed: 15</th>\n",
       "      <th>Unnamed: 16</th>\n",
       "      <th>Unnamed: 17</th>\n",
       "      <th>Unnamed: 18</th>\n",
       "      <th>Unnamed: 19</th>\n",
       "    </tr>\n",
       "  </thead>\n",
       "  <tbody>\n",
       "    <tr>\n",
       "      <th>0</th>\n",
       "      <td>Defesa em Crise parte2</td>\n",
       "      <td>1.0</td>\n",
       "      <td>56 visualizações</td>\n",
       "      <td>Publicado em 30 de abr. de 2010</td>\n",
       "      <td>Categoria\\n    \\n\\nEducação\\n\\n\\n\\n\\n      Mús...</td>\n",
       "      <td>WMG, UMG (em nome de Roadrunner Records); UNIA...</td>\n",
       "      <td>https://i.ytimg.com/vi/-4Y53PNgypA/hqdefault.jpg</td>\n",
       "      <td>480</td>\n",
       "      <td>360</td>\n",
       "      <td>Filme desenvolvido para o projeto Luz, câmera ...</td>\n",
       "      <td>480.0</td>\n",
       "      <td>360.0</td>\n",
       "      <td>Vírus</td>\n",
       "      <td>/channel/UCrcrBRNqSVxZwaq4SdQ4IsQ</td>\n",
       "      <td>NaN</td>\n",
       "      <td>NaN</td>\n",
       "      <td>NaN</td>\n",
       "      <td>NaN</td>\n",
       "      <td>NaN</td>\n",
       "      <td>NaN</td>\n",
       "    </tr>\n",
       "    <tr>\n",
       "      <th>1</th>\n",
       "      <td>Indústria comemora dólar mais alto e espera qu...</td>\n",
       "      <td>0.0</td>\n",
       "      <td>38 visualizações</td>\n",
       "      <td>Publicado em 4 de dez. de 2014</td>\n",
       "      <td>Categoria\\n    \\n\\nPessoas e blogs</td>\n",
       "      <td>Pessoas e blogs</td>\n",
       "      <td>https://i.ytimg.com/vi/-8MbYhCD9j0/hqdefault.jpg</td>\n",
       "      <td>480</td>\n",
       "      <td>360</td>\n",
       "      <td>As indústrias brasileiras comemoram a alta do ...</td>\n",
       "      <td>480.0</td>\n",
       "      <td>360.0</td>\n",
       "      <td>NaN</td>\n",
       "      <td>/channel/UCnHUS48AR6Dq7YZpDKavoGw</td>\n",
       "      <td>NaN</td>\n",
       "      <td>NaN</td>\n",
       "      <td>NaN</td>\n",
       "      <td>NaN</td>\n",
       "      <td>NaN</td>\n",
       "      <td>NaN</td>\n",
       "    </tr>\n",
       "    <tr>\n",
       "      <th>2</th>\n",
       "      <td>CRISE ECONÔMICA - Coronavírus e Petróleo derru...</td>\n",
       "      <td>1.0</td>\n",
       "      <td>34 visualizações</td>\n",
       "      <td>Publicado em 11 de mar. de 2020</td>\n",
       "      <td>Categoria\\n    \\n\\nEducação</td>\n",
       "      <td>Educação</td>\n",
       "      <td>https://i.ytimg.com/vi/-CLmLi58Ss4/maxresdefau...</td>\n",
       "      <td>1280</td>\n",
       "      <td>720</td>\n",
       "      <td>Uma coisa que sempre devemos ter em mente é qu...</td>\n",
       "      <td>1280.0</td>\n",
       "      <td>720.0</td>\n",
       "      <td>Circuit Breaker</td>\n",
       "      <td>/channel/UCHojQfvEsfhCuKAqYS0hHvg</td>\n",
       "      <td>NaN</td>\n",
       "      <td>NaN</td>\n",
       "      <td>NaN</td>\n",
       "      <td>NaN</td>\n",
       "      <td>NaN</td>\n",
       "      <td>NaN</td>\n",
       "    </tr>\n",
       "    <tr>\n",
       "      <th>3</th>\n",
       "      <td>NÃO RESISTI MESMO COM O DÓLAR ALTO</td>\n",
       "      <td>1.0</td>\n",
       "      <td>11.441 visualizações</td>\n",
       "      <td>Publicado em 16 de out. de 2018</td>\n",
       "      <td>Categoria\\n    \\n\\nPessoas e blogs</td>\n",
       "      <td>Pessoas e blogs</td>\n",
       "      <td>https://i.ytimg.com/vi/-CV6vs1UZCk/hqdefault.jpg</td>\n",
       "      <td>480</td>\n",
       "      <td>360</td>\n",
       "      <td>Obrigada por assistir! ASSISTA EM HD Se inscre...</td>\n",
       "      <td>1280.0</td>\n",
       "      <td>720.0</td>\n",
       "      <td>WALGREENS</td>\n",
       "      <td>/channel/UCB0YcnwZ8YyWPThmykT9Uvg</td>\n",
       "      <td>NaN</td>\n",
       "      <td>NaN</td>\n",
       "      <td>NaN</td>\n",
       "      <td>NaN</td>\n",
       "      <td>NaN</td>\n",
       "      <td>NaN</td>\n",
       "    </tr>\n",
       "    <tr>\n",
       "      <th>4</th>\n",
       "      <td>FUNDOS IMOBILIÁRIOS SÃO UM BOM NEGÓCIO MAS, SA...</td>\n",
       "      <td>0.0</td>\n",
       "      <td>173.874 visualizações</td>\n",
       "      <td>Publicado em 10 de mar. de 2019</td>\n",
       "      <td>Categoria\\n    \\n\\nEducação</td>\n",
       "      <td>Educação</td>\n",
       "      <td>https://i.ytimg.com/vi/-F3mSJbrQSs/maxresdefau...</td>\n",
       "      <td>1280</td>\n",
       "      <td>720</td>\n",
       "      <td>FUNDOS IMOBILIÁRIOS SÃO UM BOM NEGÓCIO MAS, SA...</td>\n",
       "      <td>1280.0</td>\n",
       "      <td>720.0</td>\n",
       "      <td>como ficar rico</td>\n",
       "      <td>/channel/UCyqDNT-iTtlc_hUI94TR0_w</td>\n",
       "      <td>NaN</td>\n",
       "      <td>NaN</td>\n",
       "      <td>NaN</td>\n",
       "      <td>NaN</td>\n",
       "      <td>NaN</td>\n",
       "      <td>NaN</td>\n",
       "    </tr>\n",
       "  </tbody>\n",
       "</table>\n",
       "</div>"
      ],
      "text/plain": [
       "                                         watch-title    y  \\\n",
       "0                             Defesa em Crise parte2  1.0   \n",
       "1  Indústria comemora dólar mais alto e espera qu...  0.0   \n",
       "2  CRISE ECONÔMICA - Coronavírus e Petróleo derru...  1.0   \n",
       "3                 NÃO RESISTI MESMO COM O DÓLAR ALTO  1.0   \n",
       "4  FUNDOS IMOBILIÁRIOS SÃO UM BOM NEGÓCIO MAS, SA...  0.0   \n",
       "\n",
       "        watch-view-count                  watch-time-text  \\\n",
       "0       56 visualizações  Publicado em 30 de abr. de 2010   \n",
       "1       38 visualizações   Publicado em 4 de dez. de 2014   \n",
       "2       34 visualizações  Publicado em 11 de mar. de 2020   \n",
       "3   11.441 visualizações  Publicado em 16 de out. de 2018   \n",
       "4  173.874 visualizações  Publicado em 10 de mar. de 2019   \n",
       "\n",
       "                                watch-extras-section  \\\n",
       "0  Categoria\\n    \\n\\nEducação\\n\\n\\n\\n\\n      Mús...   \n",
       "1                 Categoria\\n    \\n\\nPessoas e blogs   \n",
       "2                        Categoria\\n    \\n\\nEducação   \n",
       "3                 Categoria\\n    \\n\\nPessoas e blogs   \n",
       "4                        Categoria\\n    \\n\\nEducação   \n",
       "\n",
       "                         content_watch-info-tag-list  \\\n",
       "0  WMG, UMG (em nome de Roadrunner Records); UNIA...   \n",
       "1                                    Pessoas e blogs   \n",
       "2                                           Educação   \n",
       "3                                    Pessoas e blogs   \n",
       "4                                           Educação   \n",
       "\n",
       "                                            og:image og:image:width  \\\n",
       "0   https://i.ytimg.com/vi/-4Y53PNgypA/hqdefault.jpg            480   \n",
       "1   https://i.ytimg.com/vi/-8MbYhCD9j0/hqdefault.jpg            480   \n",
       "2  https://i.ytimg.com/vi/-CLmLi58Ss4/maxresdefau...           1280   \n",
       "3   https://i.ytimg.com/vi/-CV6vs1UZCk/hqdefault.jpg            480   \n",
       "4  https://i.ytimg.com/vi/-F3mSJbrQSs/maxresdefau...           1280   \n",
       "\n",
       "   og:image:height                                     og:description  \\\n",
       "0              360  Filme desenvolvido para o projeto Luz, câmera ...   \n",
       "1              360  As indústrias brasileiras comemoram a alta do ...   \n",
       "2              720  Uma coisa que sempre devemos ter em mente é qu...   \n",
       "3              360  Obrigada por assistir! ASSISTA EM HD Se inscre...   \n",
       "4              720  FUNDOS IMOBILIÁRIOS SÃO UM BOM NEGÓCIO MAS, SA...   \n",
       "\n",
       "  og:video:width og:video:height     og:video:tag  \\\n",
       "0          480.0           360.0            Vírus   \n",
       "1          480.0           360.0              NaN   \n",
       "2         1280.0           720.0  Circuit Breaker   \n",
       "3         1280.0           720.0        WALGREENS   \n",
       "4         1280.0           720.0  como ficar rico   \n",
       "\n",
       "                      channel_link_0 Unnamed: 14 Unnamed: 15 Unnamed: 16  \\\n",
       "0  /channel/UCrcrBRNqSVxZwaq4SdQ4IsQ         NaN         NaN         NaN   \n",
       "1  /channel/UCnHUS48AR6Dq7YZpDKavoGw         NaN         NaN         NaN   \n",
       "2  /channel/UCHojQfvEsfhCuKAqYS0hHvg         NaN         NaN         NaN   \n",
       "3  /channel/UCB0YcnwZ8YyWPThmykT9Uvg         NaN         NaN         NaN   \n",
       "4  /channel/UCyqDNT-iTtlc_hUI94TR0_w         NaN         NaN         NaN   \n",
       "\n",
       "  Unnamed: 17  Unnamed: 18 Unnamed: 19  \n",
       "0         NaN          NaN         NaN  \n",
       "1         NaN          NaN         NaN  \n",
       "2         NaN          NaN         NaN  \n",
       "3         NaN          NaN         NaN  \n",
       "4         NaN          NaN         NaN  "
      ]
     },
     "execution_count": 3,
     "metadata": {},
     "output_type": "execute_result"
    }
   ],
   "source": [
    "df.head()"
   ]
  },
  {
   "cell_type": "code",
   "execution_count": 4,
   "metadata": {},
   "outputs": [
    {
     "data": {
      "text/plain": [
       "(343, 20)"
      ]
     },
     "execution_count": 4,
     "metadata": {},
     "output_type": "execute_result"
    }
   ],
   "source": [
    "df = df[df['y'].notnull()]\n",
    "df.shape"
   ]
  },
  {
   "cell_type": "code",
   "execution_count": 5,
   "metadata": {},
   "outputs": [],
   "source": [
    "df_clean = pd.DataFrame(index=df.index)"
   ]
  },
  {
   "cell_type": "code",
   "execution_count": 6,
   "metadata": {},
   "outputs": [],
   "source": [
    "clean_date = df['watch-time-text'].str.extract(r\"(\\d+) de ([a-z]+)\\. de (\\d+)\")"
   ]
  },
  {
   "cell_type": "code",
   "execution_count": 7,
   "metadata": {},
   "outputs": [],
   "source": [
    "clean_date[0] = clean_date[0].dropna().astype(str)\n",
    "clean_date[2] = clean_date[2].dropna().astype(str)"
   ]
  },
  {
   "cell_type": "code",
   "execution_count": 8,
   "metadata": {},
   "outputs": [],
   "source": [
    "month_map = {\"jan\": \"Jan\",\n",
    "             \"fev\": \"Feb\",\n",
    "             \"mar\": \"Mar\",\n",
    "             \"abr\": \"Apr\",\n",
    "             \"mai\": \"May\",\n",
    "             \"jun\": \"Jun\",\n",
    "             \"jul\": \"Jul\",\n",
    "             \"ago\": \"Aug\",\n",
    "             \"set\": \"Sep\",\n",
    "             \"out\": \"Oct\",\n",
    "             \"nov\": \"Nov\",\n",
    "             \"dez\": \"Dec\"}\n",
    "\n",
    "clean_date[1] = clean_date[1].map(month_map)"
   ]
  },
  {
   "cell_type": "code",
   "execution_count": 9,
   "metadata": {},
   "outputs": [
    {
     "name": "stdout",
     "output_type": "stream",
     "text": [
      "<class 'pandas.core.frame.DataFrame'>\n",
      "Int64Index: 343 entries, 0 to 352\n",
      "Data columns (total 3 columns):\n",
      " #   Column  Non-Null Count  Dtype \n",
      "---  ------  --------------  ----- \n",
      " 0   0       329 non-null    object\n",
      " 1   1       329 non-null    object\n",
      " 2   2       329 non-null    object\n",
      "dtypes: object(3)\n",
      "memory usage: 10.7+ KB\n"
     ]
    }
   ],
   "source": [
    "clean_date.info()"
   ]
  },
  {
   "cell_type": "code",
   "execution_count": 10,
   "metadata": {},
   "outputs": [],
   "source": [
    "clean_date = clean_date.dropna().apply(lambda x: \" \".join(x), axis=1)"
   ]
  },
  {
   "cell_type": "code",
   "execution_count": 11,
   "metadata": {},
   "outputs": [],
   "source": [
    "df_clean['date'] = pd.to_datetime(clean_date, format=\"%d %b %Y\")"
   ]
  },
  {
   "cell_type": "code",
   "execution_count": 12,
   "metadata": {},
   "outputs": [
    {
     "data": {
      "text/html": [
       "<div>\n",
       "<style scoped>\n",
       "    .dataframe tbody tr th:only-of-type {\n",
       "        vertical-align: middle;\n",
       "    }\n",
       "\n",
       "    .dataframe tbody tr th {\n",
       "        vertical-align: top;\n",
       "    }\n",
       "\n",
       "    .dataframe thead th {\n",
       "        text-align: right;\n",
       "    }\n",
       "</style>\n",
       "<table border=\"1\" class=\"dataframe\">\n",
       "  <thead>\n",
       "    <tr style=\"text-align: right;\">\n",
       "      <th></th>\n",
       "      <th>date</th>\n",
       "    </tr>\n",
       "  </thead>\n",
       "  <tbody>\n",
       "    <tr>\n",
       "      <th>0</th>\n",
       "      <td>2010-04-30</td>\n",
       "    </tr>\n",
       "    <tr>\n",
       "      <th>1</th>\n",
       "      <td>2014-12-04</td>\n",
       "    </tr>\n",
       "    <tr>\n",
       "      <th>2</th>\n",
       "      <td>2020-03-11</td>\n",
       "    </tr>\n",
       "    <tr>\n",
       "      <th>3</th>\n",
       "      <td>2018-10-16</td>\n",
       "    </tr>\n",
       "    <tr>\n",
       "      <th>4</th>\n",
       "      <td>2019-03-10</td>\n",
       "    </tr>\n",
       "    <tr>\n",
       "      <th>...</th>\n",
       "      <td>...</td>\n",
       "    </tr>\n",
       "    <tr>\n",
       "      <th>348</th>\n",
       "      <td>2019-11-01</td>\n",
       "    </tr>\n",
       "    <tr>\n",
       "      <th>349</th>\n",
       "      <td>2018-04-09</td>\n",
       "    </tr>\n",
       "    <tr>\n",
       "      <th>350</th>\n",
       "      <td>2019-12-28</td>\n",
       "    </tr>\n",
       "    <tr>\n",
       "      <th>351</th>\n",
       "      <td>2020-02-02</td>\n",
       "    </tr>\n",
       "    <tr>\n",
       "      <th>352</th>\n",
       "      <td>2019-08-23</td>\n",
       "    </tr>\n",
       "  </tbody>\n",
       "</table>\n",
       "<p>343 rows × 1 columns</p>\n",
       "</div>"
      ],
      "text/plain": [
       "          date\n",
       "0   2010-04-30\n",
       "1   2014-12-04\n",
       "2   2020-03-11\n",
       "3   2018-10-16\n",
       "4   2019-03-10\n",
       "..         ...\n",
       "348 2019-11-01\n",
       "349 2018-04-09\n",
       "350 2019-12-28\n",
       "351 2020-02-02\n",
       "352 2019-08-23\n",
       "\n",
       "[343 rows x 1 columns]"
      ]
     },
     "execution_count": 12,
     "metadata": {},
     "output_type": "execute_result"
    }
   ],
   "source": [
    "df_clean"
   ]
  },
  {
   "cell_type": "code",
   "execution_count": 13,
   "metadata": {},
   "outputs": [],
   "source": [
    "views = df['watch-view-count'].str.extract(r\"(\\d+\\.?\\d*)\",\n",
    "           expand=False).str.replace(\".\", \"\").fillna(0).astype(int)\n",
    "df_clean['views'] = views"
   ]
  },
  {
   "cell_type": "code",
   "execution_count": 14,
   "metadata": {},
   "outputs": [
    {
     "data": {
      "text/html": [
       "<div>\n",
       "<style scoped>\n",
       "    .dataframe tbody tr th:only-of-type {\n",
       "        vertical-align: middle;\n",
       "    }\n",
       "\n",
       "    .dataframe tbody tr th {\n",
       "        vertical-align: top;\n",
       "    }\n",
       "\n",
       "    .dataframe thead th {\n",
       "        text-align: right;\n",
       "    }\n",
       "</style>\n",
       "<table border=\"1\" class=\"dataframe\">\n",
       "  <thead>\n",
       "    <tr style=\"text-align: right;\">\n",
       "      <th></th>\n",
       "      <th>date</th>\n",
       "      <th>views</th>\n",
       "    </tr>\n",
       "  </thead>\n",
       "  <tbody>\n",
       "    <tr>\n",
       "      <th>0</th>\n",
       "      <td>2010-04-30</td>\n",
       "      <td>56</td>\n",
       "    </tr>\n",
       "    <tr>\n",
       "      <th>1</th>\n",
       "      <td>2014-12-04</td>\n",
       "      <td>38</td>\n",
       "    </tr>\n",
       "    <tr>\n",
       "      <th>2</th>\n",
       "      <td>2020-03-11</td>\n",
       "      <td>34</td>\n",
       "    </tr>\n",
       "    <tr>\n",
       "      <th>3</th>\n",
       "      <td>2018-10-16</td>\n",
       "      <td>11441</td>\n",
       "    </tr>\n",
       "    <tr>\n",
       "      <th>4</th>\n",
       "      <td>2019-03-10</td>\n",
       "      <td>173874</td>\n",
       "    </tr>\n",
       "    <tr>\n",
       "      <th>...</th>\n",
       "      <td>...</td>\n",
       "      <td>...</td>\n",
       "    </tr>\n",
       "    <tr>\n",
       "      <th>348</th>\n",
       "      <td>2019-11-01</td>\n",
       "      <td>45206</td>\n",
       "    </tr>\n",
       "    <tr>\n",
       "      <th>349</th>\n",
       "      <td>2018-04-09</td>\n",
       "      <td>23212</td>\n",
       "    </tr>\n",
       "    <tr>\n",
       "      <th>350</th>\n",
       "      <td>2019-12-28</td>\n",
       "      <td>10990</td>\n",
       "    </tr>\n",
       "    <tr>\n",
       "      <th>351</th>\n",
       "      <td>2020-02-02</td>\n",
       "      <td>54098</td>\n",
       "    </tr>\n",
       "    <tr>\n",
       "      <th>352</th>\n",
       "      <td>2019-08-23</td>\n",
       "      <td>1214</td>\n",
       "    </tr>\n",
       "  </tbody>\n",
       "</table>\n",
       "<p>343 rows × 2 columns</p>\n",
       "</div>"
      ],
      "text/plain": [
       "          date   views\n",
       "0   2010-04-30      56\n",
       "1   2014-12-04      38\n",
       "2   2020-03-11      34\n",
       "3   2018-10-16   11441\n",
       "4   2019-03-10  173874\n",
       "..         ...     ...\n",
       "348 2019-11-01   45206\n",
       "349 2018-04-09   23212\n",
       "350 2019-12-28   10990\n",
       "351 2020-02-02   54098\n",
       "352 2019-08-23    1214\n",
       "\n",
       "[343 rows x 2 columns]"
      ]
     },
     "execution_count": 14,
     "metadata": {},
     "output_type": "execute_result"
    }
   ],
   "source": [
    "df_clean"
   ]
  },
  {
   "cell_type": "code",
   "execution_count": 15,
   "metadata": {},
   "outputs": [
    {
     "data": {
      "image/png": "[encoded data removed]",
      "text/plain": [
       "<Figure size 1440x720 with 1 Axes>"
      ]
     },
     "metadata": {
      "needs_background": "light"
     },
     "output_type": "display_data"
    }
   ],
   "source": [
    "# Makaing features DataFrame\n",
    "features = pd.DataFrame(index=df_clean.index)\n",
    "y = df['y'].copy()\n",
    "\n",
    "features['time_since_pub'] = (pd.to_datetime(\"2020-03-16\") -  # HARDCODED\n",
    "                              df_clean['date']) / np.timedelta64(1, 'D')\n",
    "features['views'] = df_clean['views']\n",
    "features['views_per_day'] = features['views'] / features['time_since_pub']\n",
    "features = features.drop(['time_since_pub'], axis=1)\n",
    "\n",
    "df_clean['date'].value_counts().plot(figsize=(20, 10))\n",
    "plt.title('Videos Dates', fontsize=20)\n",
    "plt.xlabel('Dates', fontsize=15)\n",
    "plt.ylabel('Video Count', fontsize=15)\n",
    "plt.savefig('../figures/video_dates.png')\n",
    "plt.show()"
   ]
  },
  {
   "cell_type": "code",
   "execution_count": 16,
   "metadata": {},
   "outputs": [],
   "source": [
    "features['date'] = df_clean['date']\n",
    "features['index'] = features.index"
   ]
  },
  {
   "cell_type": "code",
   "execution_count": 17,
   "metadata": {},
   "outputs": [],
   "source": [
    "features = features.set_index('date').sort_index().dropna()"
   ]
  },
  {
   "cell_type": "code",
   "execution_count": 18,
   "metadata": {},
   "outputs": [],
   "source": [
    "n = len(features)\n",
    "n_train = np.ceil(n * 0.6) - 1\n",
    "n_val = n - n_train"
   ]
  },
  {
   "cell_type": "code",
   "execution_count": 19,
   "metadata": {},
   "outputs": [],
   "source": [
    "y = pd.DataFrame(y)\n",
    "y['date'] = df_clean['date']\n",
    "y['index'] = y.index"
   ]
  },
  {
   "cell_type": "code",
   "execution_count": 20,
   "metadata": {},
   "outputs": [],
   "source": [
    "y = y.set_index('date').sort_index()\n",
    "y = y[y.index.notna()]"
   ]
  },
  {
   "cell_type": "code",
   "execution_count": 21,
   "metadata": {},
   "outputs": [],
   "source": [
    "X_train, X_val = features.reset_index().loc[:n_train], features.reset_index().loc[n_train+1:]"
   ]
  },
  {
   "cell_type": "code",
   "execution_count": 22,
   "metadata": {},
   "outputs": [],
   "source": [
    "y_train, y_val = y.reset_index().loc[:n_train], y.reset_index().loc[n_train+1:]"
   ]
  },
  {
   "cell_type": "code",
   "execution_count": 24,
   "metadata": {},
   "outputs": [],
   "source": [
    "X_train = X_train.drop(['date', 'index'], axis=1)\n",
    "X_val = X_val.drop(['date', 'index'], axis=1)\n",
    "y_train = y_train['y']\n",
    "y_val = y_val['y']"
   ]
  },
  {
   "cell_type": "code",
   "execution_count": 25,
   "metadata": {},
   "outputs": [
    {
     "data": {
      "text/plain": [
       "DecisionTreeClassifier(ccp_alpha=0.0, class_weight='balanced', criterion='gini',\n",
       "                       max_depth=3, max_features=None, max_leaf_nodes=None,\n",
       "                       min_impurity_decrease=0.0, min_impurity_split=None,\n",
       "                       min_samples_leaf=1, min_samples_split=2,\n",
       "                       min_weight_fraction_leaf=0.0, presort='deprecated',\n",
       "                       random_state=0, splitter='best')"
      ]
     },
     "execution_count": 25,
     "metadata": {},
     "output_type": "execute_result"
    }
   ],
   "source": [
    "mdl = DecisionTreeClassifier(random_state=0, max_depth=3, class_weight=\"balanced\")\n",
    "mdl = mdl.fit(X_train, y_train)"
   ]
  },
  {
   "cell_type": "code",
   "execution_count": 26,
   "metadata": {},
   "outputs": [],
   "source": [
    "val_proba = mdl.predict_proba(X_val)\n",
    "preds = mdl.predict(X_val)"
   ]
  },
  {
   "cell_type": "code",
   "execution_count": 27,
   "metadata": {},
   "outputs": [],
   "source": [
    "from sklearn.metrics import roc_auc_score, average_precision_score, log_loss\n",
    "import scikitplot as skplt"
   ]
  },
  {
   "cell_type": "code",
   "execution_count": 28,
   "metadata": {},
   "outputs": [
    {
     "data": {
      "text/plain": [
       "18.456243669248636"
      ]
     },
     "execution_count": 28,
     "metadata": {},
     "output_type": "execute_result"
    }
   ],
   "source": [
    "log_loss(y_val,preds)"
   ]
  },
  {
   "cell_type": "code",
   "execution_count": 29,
   "metadata": {},
   "outputs": [
    {
     "data": {
      "text/plain": [
       "0.46936971895088386"
      ]
     },
     "execution_count": 29,
     "metadata": {},
     "output_type": "execute_result"
    }
   ],
   "source": [
    "average_precision_score(y_val, val_proba[:, 1])"
   ]
  },
  {
   "cell_type": "code",
   "execution_count": 30,
   "metadata": {},
   "outputs": [
    {
     "data": {
      "text/plain": [
       "0.46000466417910446"
      ]
     },
     "execution_count": 30,
     "metadata": {},
     "output_type": "execute_result"
    }
   ],
   "source": [
    "roc_auc_score(y_val, val_proba[:, 1])"
   ]
  },
  {
   "cell_type": "code",
   "execution_count": 31,
   "metadata": {},
   "outputs": [
    {
     "data": {
      "text/plain": [
       "<matplotlib.axes._subplots.AxesSubplot at 0x7f334e50fb10>"
      ]
     },
     "execution_count": 31,
     "metadata": {},
     "output_type": "execute_result"
    },
    {
     "data": {
      "image/png": "[encoded data removed]",
      "text/plain": [
       "<Figure size 576x504 with 1 Axes>"
      ]
     },
     "metadata": {
      "needs_background": "light"
     },
     "output_type": "display_data"
    }
   ],
   "source": [
    "skplt.metrics.plot_roc(y_val, val_proba, figsize=(8,7))"
   ]
  },
  {
   "cell_type": "code",
   "execution_count": 32,
   "metadata": {},
   "outputs": [],
   "source": [
    "from sklearn.tree import plot_tree"
   ]
  },
  {
   "cell_type": "code",
   "execution_count": 33,
   "metadata": {},
   "outputs": [
    {
     "data": {
      "text/plain": [
       "[Text(372.0, 475.65000000000003, 'views <= 133530.5\\ngini = 0.5\\nsamples = 198\\nvalue = [99.0, 99.0]'),\n",
       " Text(279.0, 339.75, 'views_per_day <= 471.896\\ngini = 0.5\\nsamples = 193\\nvalue = [94.733, 99.0]'),\n",
       " Text(186.0, 203.85000000000002, 'views <= 43311.0\\ngini = 0.5\\nsamples = 186\\nvalue = [94.733, 90.549]'),\n",
       " Text(93.0, 67.94999999999999, 'gini = 0.5\\nsamples = 174\\nvalue = [85.345, 89.341]'),\n",
       " Text(279.0, 67.94999999999999, 'gini = 0.202\\nsamples = 12\\nvalue = [9.388, 1.207]'),\n",
       " Text(372.0, 203.85000000000002, 'gini = 0.0\\nsamples = 7\\nvalue = [0.0, 8.451]'),\n",
       " Text(465.0, 339.75, 'gini = 0.0\\nsamples = 5\\nvalue = [4.267, 0.0]')]"
      ]
     },
     "execution_count": 33,
     "metadata": {},
     "output_type": "execute_result"
    },
    {
     "data": {
      "image/png": "[encoded data removed]",
      "text/plain": [
       "<Figure size 720x720 with 1 Axes>"
      ]
     },
     "metadata": {
      "needs_background": "light"
     },
     "output_type": "display_data"
    }
   ],
   "source": [
    "fig, ax = pylab.subplots(1,1, figsize=(10,10))\n",
    "plot_tree(mdl, ax=ax, feature_names=X_train.columns)"
   ]
  },
  {
   "cell_type": "code",
   "execution_count": null,
   "metadata": {},
   "outputs": [],
   "source": []
  }
 ],
 "metadata": {
  "file_extension": ".py",
  "kernelspec": {
   "display_name": "Python 3.7.6 64-bit ('youtube_recommender': conda)",
   "language": "python",
   "name": "python37664bityoutuberecommenderconda5a209fb9b2f743f38f3574f5a4745b7a"
  },
  "language_info": {
   "codemirror_mode": {
    "name": "ipython",
    "version": 3
   },
   "file_extension": ".py",
   "mimetype": "text/x-python",
   "name": "python",
   "nbconvert_exporter": "python",
   "pygments_lexer": "ipython3",
   "version": "3.7.6"
  },
  "mimetype": "text/x-python",
  "name": "python",
  "npconvert_exporter": "python",
  "pygments_lexer": "ipython3",
  "version": 3
 },
 "nbformat": 4,
 "nbformat_minor": 4
}
