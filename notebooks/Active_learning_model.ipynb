{
 "cells": [
  {
   "cell_type": "code",
   "execution_count": 135,
   "metadata": {},
   "outputs": [],
   "source": [
    "import pandas as pd\n",
    "import numpy as np\n",
    "import matplotlib.pyplot as plt\n",
    "import seaborn as sns\n",
    "from sklearn.ensemble import RandomForestClassifier\n",
    "from sklearn.metrics import roc_auc_score, average_precision_score, log_loss\n",
    "import scikitplot as skplt\n",
    "from sklearn.feature_extraction.text import TfidfVectorizer\n",
    "from scipy.sparse import hstack\n",
    "\n",
    "%matplotlib inline"
   ]
  },
  {
   "cell_type": "code",
   "execution_count": 2,
   "metadata": {},
   "outputs": [],
   "source": [
    "raw_data = pd.read_csv('../data/raw_data.csv')\n",
    "df = raw_data[raw_data['y'].notnull()]\n",
    "\n",
    "df_clean = pd.DataFrame(index=df.index)\n",
    "\n",
    "# Clean date attribute\n",
    "clean_date = df['watch-time-text'].str.extract(r\"(\\d+) de ([a-z]+)\\. de (\\d+)\")\n",
    "clean_date[0] = clean_date[0].dropna().astype(str)\n",
    "clean_date[2] = clean_date[2].dropna().astype(str)\n",
    "\n",
    "month_map = {\"jan\": \"Jan\",\n",
    "             \"fev\": \"Feb\",\n",
    "             \"mar\": \"Mar\",\n",
    "             \"abr\": \"Apr\",\n",
    "             \"mai\": \"May\",\n",
    "             \"jun\": \"Jun\",\n",
    "             \"jul\": \"Jul\",\n",
    "             \"ago\": \"Aug\",\n",
    "             \"set\": \"Sep\",\n",
    "             \"out\": \"Oct\",\n",
    "             \"nov\": \"Nov\",\n",
    "             \"dez\": \"Dec\"}\n",
    "\n",
    "clean_date[1] = clean_date[1].map(month_map)\n",
    "clean_date = clean_date.dropna().apply(lambda x: \" \".join(x), axis=1)\n",
    "\n",
    "df_clean['date'] = pd.to_datetime(clean_date, format=\"%d %b %Y\")\n",
    "\n",
    "# Clean view number\n",
    "views = df['watch-view-count'].str.extract(r\"(\\d+\\.?\\d*)\", expand=False)\n",
    "df_clean['views'] = views.str.replace(\".\", \"\").fillna(0).astype(int)\n",
    "\n",
    "# Makaing features DataFrame\n",
    "features = pd.DataFrame(index=df_clean.index)\n",
    "y = df['y'].copy()\n",
    "\n",
    "# Extracting time since publication feature\n",
    "features['time_since_pub'] = (pd.to_datetime(\"2020-03-24\") -  # HARDCODED\n",
    "                              df_clean['date']) / np.timedelta64(1, 'D')\n",
    "\n",
    "# Extracting n of view feature\n",
    "features['views'] = df_clean['views']\n",
    "\n",
    "# Extracting n of view/day feature\n",
    "features['views_per_day'] = features['views'] / features['time_since_pub']\n",
    "\n",
    "# Droping time_since_pub to prevent bias\n",
    "features = features.drop(['time_since_pub'], axis=1)\n",
    "features['date'] = df_clean['date']\n",
    "features['index'] = features.index\n",
    "features = features.set_index('date').sort_index().dropna()\n",
    "\n",
    "y = pd.DataFrame(y)\n",
    "y['date'] = df_clean['date']\n",
    "y['index'] = y.index\n",
    "y = y.set_index('date').sort_index()\n",
    "y = y[y.index.notna()]\n",
    "\n",
    "# Splitting the data set - 60% train 40% validation\n",
    "n = len(features)\n",
    "n_train = np.ceil(n * 0.6) - 1\n",
    "n_val = n - n_train\n",
    "\n",
    "X_train, X_val = (features.reset_index().loc[:n_train],\n",
    "                  features.reset_index().loc[n_train+1:])\n",
    "y_train, y_val = y.reset_index().loc[:n_train], y.reset_index().loc[n_train+1:]\n"
   ]
  },
  {
   "cell_type": "code",
   "execution_count": 137,
   "metadata": {},
   "outputs": [
    {
     "data": {
      "text/plain": [
       "<matplotlib.axes._subplots.AxesSubplot at 0x7fd82e439d10>"
      ]
     },
     "execution_count": 137,
     "metadata": {},
     "output_type": "execute_result"
    },
    {
     "data": {
      "image/png": "[encoded data removed]",
      "text/plain": [
       "<Figure size 432x288 with 1 Axes>"
      ]
     },
     "metadata": {
      "needs_background": "light"
     },
     "output_type": "display_data"
    }
   ],
   "source": [
    "sns.countplot(df['y'])"
   ]
  },
  {
   "cell_type": "code",
   "execution_count": 4,
   "metadata": {},
   "outputs": [],
   "source": [
    "X_train = X_train.set_index('index').drop('date', axis=1)\n",
    "y_train = y_train.set_index('index').drop('date', axis=1)\n",
    "X_val = X_val.set_index('index').drop('date', axis=1)\n",
    "y_val = y_val.set_index('index').drop('date', axis=1)"
   ]
  },
  {
   "cell_type": "code",
   "execution_count": 5,
   "metadata": {},
   "outputs": [],
   "source": [
    "df_clean['title'] = df['watch-title']"
   ]
  },
  {
   "cell_type": "code",
   "execution_count": 6,
   "metadata": {},
   "outputs": [],
   "source": [
    "train_titles = df_clean.loc[X_train.index.tolist()]['title']\n",
    "val_titles = df_clean.loc[X_val.index.tolist()]['title']"
   ]
  },
  {
   "cell_type": "code",
   "execution_count": 7,
   "metadata": {},
   "outputs": [],
   "source": [
    "title_vec = TfidfVectorizer(min_df=2)\n",
    "title_bow_train = title_vec.fit_transform(train_titles)\n",
    "title_bow_val = title_vec.transform(val_titles)"
   ]
  },
  {
   "cell_type": "code",
   "execution_count": 8,
   "metadata": {},
   "outputs": [],
   "source": [
    "X_train_title = hstack([X_train, title_bow_train])\n",
    "X_val_title = hstack([X_val, title_bow_val])"
   ]
  },
  {
   "cell_type": "code",
   "execution_count": 9,
   "metadata": {},
   "outputs": [
    {
     "data": {
      "text/plain": [
       "RandomForestClassifier(bootstrap=True, ccp_alpha=0.0, class_weight='balanced',\n",
       "                       criterion='gini', max_depth=None, max_features='auto',\n",
       "                       max_leaf_nodes=None, max_samples=None,\n",
       "                       min_impurity_decrease=0.0, min_impurity_split=None,\n",
       "                       min_samples_leaf=1, min_samples_split=2,\n",
       "                       min_weight_fraction_leaf=0.0, n_estimators=1000,\n",
       "                       n_jobs=6, oob_score=False, random_state=0, verbose=0,\n",
       "                       warm_start=False)"
      ]
     },
     "execution_count": 9,
     "metadata": {},
     "output_type": "execute_result"
    }
   ],
   "source": [
    "mdl = RandomForestClassifier(n_estimators=1000, random_state=0, class_weight=\"balanced\", n_jobs=6)\n",
    "mdl.fit(X_train_title, y_train['y'])"
   ]
  },
  {
   "cell_type": "code",
   "execution_count": 10,
   "metadata": {},
   "outputs": [
    {
     "name": "stdout",
     "output_type": "stream",
     "text": [
      "log_loss:  14.827260569506407\n",
      "avg_precision_score:  0.5418522758941334\n",
      "roc_auc:  0.6541735880398671\n"
     ]
    }
   ],
   "source": [
    "# Predicting on the validation set\n",
    "val_proba = mdl.predict_proba(X_val_title)\n",
    "preds = mdl.predict(X_val_title)\n",
    "\n",
    "# Getting the metrics\n",
    "print('log_loss: ', log_loss(y_val, preds))\n",
    "print('avg_precision_score: ', average_precision_score(y_val, val_proba[:, 1]))\n",
    "print('roc_auc: ', roc_auc_score(y_val, val_proba[:, 1]))"
   ]
  },
  {
   "cell_type": "markdown",
   "metadata": {},
   "source": [
    "# ACTIVE LEARNING"
   ]
  },
  {
   "cell_type": "code",
   "execution_count": 111,
   "metadata": {},
   "outputs": [],
   "source": [
    "df_u = raw_data[raw_data['y'].isnull()]"
   ]
  },
  {
   "cell_type": "code",
   "execution_count": 112,
   "metadata": {},
   "outputs": [
    {
     "data": {
      "text/plain": [
       "(557, 18)"
      ]
     },
     "execution_count": 112,
     "metadata": {},
     "output_type": "execute_result"
    }
   ],
   "source": [
    "df_u = df_u[df_u['watch-title'].notnull()]\n",
    "df_u.shape"
   ]
  },
  {
   "cell_type": "code",
   "execution_count": 113,
   "metadata": {},
   "outputs": [],
   "source": [
    "df_clean_u = pd.DataFrame(index=df_u.index)\n",
    "df_clean_u['title'] = df_u['watch-title']"
   ]
  },
  {
   "cell_type": "code",
   "execution_count": 114,
   "metadata": {},
   "outputs": [],
   "source": [
    "# Clean date attribute\n",
    "clean_date = df_u['watch-time-text'].str.extract(r\"(\\d+) de ([a-z]+)\\. de (\\d+)\")\n",
    "clean_date[0] = clean_date[0].dropna().astype(str)\n",
    "clean_date[1] = clean_date[1].map(month_map)\n",
    "clean_date[2] = clean_date[2].dropna().astype(str)\n",
    "clean_date = clean_date.dropna().apply(lambda x: \" \".join(x), axis=1)"
   ]
  },
  {
   "cell_type": "code",
   "execution_count": 115,
   "metadata": {},
   "outputs": [],
   "source": [
    "df_clean_u['date'] = pd.to_datetime(clean_date, format=\"%d %b %Y\")\n",
    "df_clean_u.dropna(inplace=True)\n",
    "df_u = df_u.loc[df_clean_u.index]"
   ]
  },
  {
   "cell_type": "code",
   "execution_count": 118,
   "metadata": {},
   "outputs": [],
   "source": [
    "# Clean view number\n",
    "views = df_u['watch-view-count'].str.extract(r\"(\\d+\\.?\\d*)\", expand=False)\n",
    "df_clean_u['views'] = views.str.replace(\".\", \"\").fillna(0).astype(int)"
   ]
  },
  {
   "cell_type": "code",
   "execution_count": 119,
   "metadata": {},
   "outputs": [],
   "source": [
    "# Making features DataFrame\n",
    "features_u = pd.DataFrame(index=df_clean_u.index)"
   ]
  },
  {
   "cell_type": "code",
   "execution_count": 120,
   "metadata": {},
   "outputs": [],
   "source": [
    "features_u['time_since_pub'] = (pd.to_datetime(\"2020-03-24\") -  # HARDCODED\n",
    "                                df_clean_u['date']) / np.timedelta64(1, 'D')"
   ]
  },
  {
   "cell_type": "code",
   "execution_count": 121,
   "metadata": {},
   "outputs": [],
   "source": [
    "# Extracting n of view feature\n",
    "features_u['views'] = df_clean_u['views']\n",
    "# Extracting n of view/day feature\n",
    "features_u['views_per_day'] = features_u['views'] / features_u['time_since_pub']"
   ]
  },
  {
   "cell_type": "code",
   "execution_count": 122,
   "metadata": {},
   "outputs": [],
   "source": [
    "# Droping time_since_pub to prevent bias\n",
    "features_u = features_u.drop(['time_since_pub'], axis=1)"
   ]
  },
  {
   "cell_type": "code",
   "execution_count": 123,
   "metadata": {},
   "outputs": [],
   "source": [
    "# Features from title\n",
    "title_bow_u = title_vec.transform(df_clean_u['title'])"
   ]
  },
  {
   "cell_type": "code",
   "execution_count": 124,
   "metadata": {},
   "outputs": [],
   "source": [
    "X_title_u = hstack([features_u, title_bow_u])"
   ]
  },
  {
   "cell_type": "code",
   "execution_count": 125,
   "metadata": {},
   "outputs": [],
   "source": [
    "proba_u = mdl.predict_proba(X_title_u)[:, 1]"
   ]
  },
  {
   "cell_type": "code",
   "execution_count": 126,
   "metadata": {},
   "outputs": [],
   "source": [
    "df_u['p'] = proba_u"
   ]
  },
  {
   "cell_type": "code",
   "execution_count": 129,
   "metadata": {},
   "outputs": [
    {
     "data": {
      "text/plain": [
       "<matplotlib.axes._subplots.AxesSubplot at 0x7fd83d381ed0>"
      ]
     },
     "execution_count": 129,
     "metadata": {},
     "output_type": "execute_result"
    },
    {
     "data": {
      "image/png": "[encoded data removed]",
      "text/plain": [
       "<Figure size 432x288 with 1 Axes>"
      ]
     },
     "metadata": {
      "needs_background": "light"
     },
     "output_type": "display_data"
    }
   ],
   "source": [
    "df_u['p'].hist(bins=30)"
   ]
  },
  {
   "cell_type": "code",
   "execution_count": 152,
   "metadata": {},
   "outputs": [
    {
     "data": {
      "text/plain": [
       "71"
      ]
     },
     "execution_count": 152,
     "metadata": {},
     "output_type": "execute_result"
    }
   ],
   "source": [
    "mask_u = (df_u['p'] >= 0.35) & (df_u['p'] <= 1.)\n",
    "n_hard = mask_u.sum()\n",
    "n_hard"
   ]
  },
  {
   "cell_type": "code",
   "execution_count": 153,
   "metadata": {},
   "outputs": [],
   "source": [
    "hard_ones = df_u[mask_u]"
   ]
  },
  {
   "cell_type": "code",
   "execution_count": 154,
   "metadata": {},
   "outputs": [],
   "source": [
    "n_random = 100 - n_hard\n",
    "random_ones = df_u[~mask_u].sample(n_random, random_state=0)"
   ]
  },
  {
   "cell_type": "code",
   "execution_count": 155,
   "metadata": {},
   "outputs": [
    {
     "data": {
      "text/plain": [
       "(29, 19)"
      ]
     },
     "execution_count": 155,
     "metadata": {},
     "output_type": "execute_result"
    }
   ],
   "source": [
    "random_ones.shape"
   ]
  },
  {
   "cell_type": "code",
   "execution_count": 164,
   "metadata": {},
   "outputs": [],
   "source": [
    "active_learning = pd.concat([hard_ones, random_ones])\n",
    "active_learning.to_csv(\"../data/active_label.csv\")"
   ]
  },
  {
   "cell_type": "code",
   "execution_count": 165,
   "metadata": {},
   "outputs": [
    {
     "data": {
      "text/plain": [
       "(100, 19)"
      ]
     },
     "execution_count": 165,
     "metadata": {},
     "output_type": "execute_result"
    }
   ],
   "source": [
    "active_learning.shape"
   ]
  },
  {
   "cell_type": "code",
   "execution_count": 166,
   "metadata": {},
   "outputs": [
    {
     "data": {
      "text/plain": [
       "(71, 19)"
      ]
     },
     "execution_count": 166,
     "metadata": {},
     "output_type": "execute_result"
    }
   ],
   "source": [
    "hard_ones.shape"
   ]
  },
  {
   "cell_type": "code",
   "execution_count": null,
   "metadata": {},
   "outputs": [],
   "source": []
  }
 ],
 "metadata": {
  "kernelspec": {
   "display_name": "Python [conda env:youtube_recommender]",
   "language": "python",
   "name": "conda-env-youtube_recommender-py"
  },
  "language_info": {
   "codemirror_mode": {
    "name": "ipython",
    "version": 3
   },
   "file_extension": ".py",
   "mimetype": "text/x-python",
   "name": "python",
   "nbconvert_exporter": "python",
   "pygments_lexer": "ipython3",
   "version": "3.7.6"
  }
 },
 "nbformat": 4,
 "nbformat_minor": 4
}
